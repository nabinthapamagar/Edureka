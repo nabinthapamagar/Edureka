{
  "nbformat": 4,
  "nbformat_minor": 0,
  "metadata": {
    "colab": {
      "name": "1. Introduction to Python.ipynb",
      "provenance": [],
      "collapsed_sections": [],
      "authorship_tag": "ABX9TyMJb45XTYahnPd/hhPlZOsf",
      "include_colab_link": true
    },
    "kernelspec": {
      "name": "python3",
      "display_name": "Python 3"
    },
    "language_info": {
      "name": "python"
    }
  },
  "cells": [
    {
      "cell_type": "markdown",
      "metadata": {
        "id": "view-in-github",
        "colab_type": "text"
      },
      "source": [
        "<a href=\"https://colab.research.google.com/github/nabinthapamagar/Edureka/blob/main/1_Introduction_to_Python.ipynb\" target=\"_parent\"><img src=\"https://colab.research.google.com/assets/colab-badge.svg\" alt=\"Open In Colab\"/></a>"
      ]
    },
    {
      "cell_type": "code",
      "metadata": {
        "id": "fQ87GcS_tnMS",
        "colab": {
          "base_uri": "https://localhost:8080/"
        },
        "outputId": "428b3bf0-85c7-4f57-f0da-1b41d5d84d03"
      },
      "source": [
        "print(\"Hello Nabin\")\n",
        "print(\"Welcome to Edureka !!!\")"
      ],
      "execution_count": null,
      "outputs": [
        {
          "output_type": "stream",
          "text": [
            "Hello Nabin\n",
            "Welcome to Edureka !!!\n"
          ],
          "name": "stdout"
        }
      ]
    },
    {
      "cell_type": "code",
      "metadata": {
        "id": "o8btX5dYiVLp"
      },
      "source": [
        "#This is a commnet\n"
      ],
      "execution_count": null,
      "outputs": []
    }
  ]
}